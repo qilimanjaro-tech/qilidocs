{
 "cells": [
  {
   "cell_type": "markdown",
   "metadata": {},
   "source": [
    "# Introduction to digital quantum computing\n",
    "\n",
    "Information for challengers: the first steps are the harder ones. In this challenge, you will clean the path for the newcomers by showing them what's a qubit and how to compute combining them. Follow the started structure to find the \n",
    "\n",
    "Sources (Qibo):  \n",
    "https://qibogang.github.io/docs/qibo/stable  \n",
    "https://qibogang.github.io/tutorials/1_getting-started  \n",
    "\n",
    "\n",
    "Sources (not Qibo):   \n",
    "https://www.iqmacademy.com/curriculum/foundations02.html  \n",
    "https://learning.quantum.ibm.com/course/basics-of-quantum-information/quantum-circuits"
   ]
  },
  {
   "cell_type": "markdown",
   "metadata": {},
   "source": [
    "## 1st exercise: basic tutorial\n",
    "\n",
    "Follow the tutorial from [qibo](https://qibogang.github.io/tutorials/1_getting-started) to get familiar with the environment. You can do it in this notebook."
   ]
  },
  {
   "cell_type": "markdown",
   "metadata": {},
   "source": [
    "Let's start importing qibo and the modules required for building our first circuit. We set the default numpy backend for this tutorial."
   ]
  },
  {
   "cell_type": "code",
   "execution_count": 1,
   "metadata": {},
   "outputs": [
    {
     "name": "stderr",
     "output_type": "stream",
     "text": [
      "[Qibo 0.2.8|INFO|2024-10-04 17:31:01]: Using numpy backend on /CPU:0\n"
     ]
    }
   ],
   "source": [
    "import qibo\n",
    "from qibo.models import Circuit\n",
    "from qibo import gates\n",
    "\n",
    "qibo.set_backend(\"numpy\")"
   ]
  },
  {
   "cell_type": "markdown",
   "metadata": {},
   "source": [
    "After this, we can start to do quantum circuit simulation using qibo.\n",
    "\n",
    "**Simulating the superposition**  \n",
    "Now we can build up a simple circuit composed of one qubit and an Hadamard gate. This gate is such that, if applied to a ∣0⟩ state, it returns the following superposition of the fundamental states.    \n",
    "\n",
    "At the end of the circuit we put a measurement gate, in order to be able to project the final state on the z direction and to perform a simple measurement operation."
   ]
  },
  {
   "cell_type": "code",
   "execution_count": 2,
   "metadata": {},
   "outputs": [
    {
     "name": "stdout",
     "output_type": "stream",
     "text": [
      "q0: ─H─M─\n"
     ]
    }
   ],
   "source": [
    "# initialize the circuit\n",
    "c = Circuit(1)\n",
    "\n",
    "# add gates\n",
    "c.add(gates.H(q=0))\n",
    "c.add(gates.M(0))\n",
    "\n",
    "# draw circuit\n",
    "print(c.draw())"
   ]
  },
  {
   "cell_type": "markdown",
   "metadata": {},
   "source": [
    "Now we can execute the circuit 1000 times (nshots=1000), and use the simulation tool for getting the results."
   ]
  },
  {
   "cell_type": "code",
   "execution_count": 3,
   "metadata": {},
   "outputs": [
    {
     "name": "stdout",
     "output_type": "stream",
     "text": [
      "(0.70711+0j)|0> + (0.70711+0j)|1>\n"
     ]
    }
   ],
   "source": [
    "simulated_final_state = c(nshots=1000)\n",
    "\n",
    "print(simulated_final_state)"
   ]
  },
  {
   "cell_type": "markdown",
   "metadata": {},
   "source": [
    "With this execution we simulate the final state obtained applying an Hadamard gate on an initial ∣0⟩ state.\n",
    "\n",
    "**Printing frequencies**    \n",
    "Now we can use the frequencies method for visualizing the obtained results. One way to do that is to activate the binary=False option; thanks to this we get a counter object which shows us how many times the two fundamental states are registered after one thousand of executions."
   ]
  },
  {
   "cell_type": "code",
   "execution_count": 4,
   "metadata": {},
   "outputs": [
    {
     "data": {
      "text/plain": [
       "Counter({0: 504, 1: 496})"
      ]
     },
     "execution_count": 4,
     "metadata": {},
     "output_type": "execute_result"
    }
   ],
   "source": [
    "simulated_final_state.frequencies(binary=False)"
   ]
  },
  {
   "cell_type": "markdown",
   "metadata": {},
   "source": [
    "**Printing probabilities**  \n",
    "Alternatively, we can use the probabilities method."
   ]
  },
  {
   "cell_type": "code",
   "execution_count": 5,
   "metadata": {},
   "outputs": [
    {
     "name": "stdout",
     "output_type": "stream",
     "text": [
      "[0.5 0.5]\n"
     ]
    }
   ],
   "source": [
    "# calculating probabilities\n",
    "probabilities = simulated_final_state.probabilities\n",
    "\n",
    "# showing the two probabilities\n",
    "print(probabilities(qubits=[0]))"
   ]
  },
  {
   "cell_type": "markdown",
   "metadata": {},
   "source": [
    "As expected, the probability of obtaining each of the two fundamental states is equal to 0.5.\n",
    "\n",
    "you can repeat this experiment many times, but you will always get these probabilities as results."
   ]
  },
  {
   "cell_type": "code",
   "execution_count": 6,
   "metadata": {},
   "outputs": [
    {
     "name": "stdout",
     "output_type": "stream",
     "text": [
      "[0.5 0.5]\n",
      "[0.5 0.5]\n",
      "[0.5 0.5]\n",
      "[0.5 0.5]\n",
      "[0.5 0.5]\n",
      "[0.5 0.5]\n",
      "[0.5 0.5]\n",
      "[0.5 0.5]\n",
      "[0.5 0.5]\n",
      "[0.5 0.5]\n"
     ]
    }
   ],
   "source": [
    "for _ in range(10):\n",
    "    final_state = c(nshots=1000)\n",
    "    probabilities = simulated_final_state.probabilities\n",
    "    print(probabilities(qubits=[0]))"
   ]
  },
  {
   "cell_type": "markdown",
   "metadata": {},
   "source": [
    "If you are following the qibo tutorial from the webpage, stop here."
   ]
  },
  {
   "cell_type": "markdown",
   "metadata": {},
   "source": [
    "## 2nd exercise: Bit flip\n",
    "\n",
    "Follow the learnt syntaxis to run a bitflip using qibo.  \n",
    "  \n",
    "Probably, the most basic operation that we can perform on a qbit is a bitflip. This operation consist on, given any basis state, inverting its value: \n",
    "\n",
    "$$ \\left| 0 \\right> \\rightarrow \\left| 1 \\right>, \\left| 1 \\right> \\rightarrow \\left| 0 \\right>$$\n",
    "\n",
    "\n",
    "Given that we always take meassurements on the Z axis, the bitflip can be applied by performing a simple Pauli X-Gate. This is, a $\\pi$ radian rotation along the X axis.\n",
    "\n",
    "\n",
    "![x_gate](../img/x_gate.png#center)"
   ]
  },
  {
   "cell_type": "markdown",
   "metadata": {},
   "source": [
    "Example blocks to get the code here with unrelated content:\n",
    "\n",
    "<div class=\"admonition note\">\n",
    "    <p class=\"admonition-title\">Note</p>\n",
    "    <p>\n",
    "        If two distributions are similar, then their entropies are similar, implies the KL divergence with respect to two distributions will be smaller. And vica versa. In Variational Inference, the whole idea is to <strong>minimize</strong> KL divergence so that our approximating distribution $q(\\theta)$ can be made similar to $p(\\theta|D)$.\n",
    "    </p>\n",
    "</div>\n",
    "\n",
    "<details class=\"tip\">\n",
    "    <summary>Extra: What are latent variables?</summary>\n",
    "    <p><br>\n",
    "    If you go about exploring any paper talking about Variational Inference, then most certainly, the papers mention about latent variables instead of parameters. The parameters are fixed quantities for the model whereas latent variables are  <strong>unobserved</strong> quantities of the model conditioned on parameters. Also, we model parameters by probability distributions. For simplicity, let's consider the running terminology of  <strong>parameters </strong> only.\n",
    "    </p>\n",
    "</details><div class=\"admonition warning\">\n",
    "    <p class=\"admonition-title\">Warning</p>\n",
    "    <p>\n",
    "        Do not miss the \"div\"\n",
    "    </p></div>"
   ]
  },
  {
   "cell_type": "markdown",
   "metadata": {},
   "source": [
    "We will use this as a first exercise with Qibo circuits. Lets first import everything we need.\n",
    "* [Qibo Circuits](https://qibo.science/qibo/stable/api-reference/qibo.html#circuit-models)\n",
    "* [Qibo Gates](https://qibo.science/qibo/stable/api-reference/qibo.html#gates)"
   ]
  },
  {
   "cell_type": "code",
   "execution_count": 21,
   "metadata": {},
   "outputs": [],
   "source": [
    "# Imports\n",
    "\n",
    "from qibo.gates import X, M\n",
    "from qibo.models.circuit import Circuit"
   ]
  },
  {
   "cell_type": "code",
   "execution_count": 22,
   "metadata": {},
   "outputs": [
    {
     "data": {
      "text/plain": [
       "MeasurementResult(qubits=(0, 1, 2, 3, 4), nshots=0)"
      ]
     },
     "execution_count": 22,
     "metadata": {},
     "output_type": "execute_result"
    }
   ],
   "source": [
    "# Build the circuit. Create a circuit instance and add to it an X gate to the 0th qbit and a Meassurement to all qbits.\n",
    "\n",
    "circuit = Circuit(nqubits=5)\n",
    "circuit.add(X(0))\n",
    "circuit.add(M(0, 1, 2, 3, 4))"
   ]
  },
  {
   "cell_type": "markdown",
   "metadata": {},
   "source": [
    "We can check the circuit using the `.summary()` and `.draw()` methods."
   ]
  },
  {
   "cell_type": "code",
   "execution_count": 23,
   "metadata": {},
   "outputs": [
    {
     "name": "stdout",
     "output_type": "stream",
     "text": [
      "Circuit depth = 2\n",
      "Total number of gates = 2\n",
      "Number of qubits = 5\n",
      "Most common gates:\n",
      "x: 1\n",
      "measure: 1\n"
     ]
    }
   ],
   "source": [
    "# Look at the outputs of summary and draw infomrative methods\n",
    "print(circuit.summary())"
   ]
  },
  {
   "cell_type": "code",
   "execution_count": 24,
   "metadata": {},
   "outputs": [
    {
     "name": "stdout",
     "output_type": "stream",
     "text": [
      "q0: ─X─M─\n",
      "q1: ───M─\n",
      "q2: ───M─\n",
      "q3: ───M─\n",
      "q4: ───M─\n"
     ]
    }
   ],
   "source": [
    "print(circuit.draw())"
   ]
  },
  {
   "cell_type": "markdown",
   "metadata": {},
   "source": [
    "We can finally call `execute()` to simmulate the execution of the circuit. We can examine the resulting object to see that the results are the expected ones.\n",
    "\n",
    "For simple circuits, we expect a the results to be an instance of `qibo.result.CircuitResult`, but more complex circuits could also return a `qibo.result.QuantumState`, or a `qibo.result.MeasurementOutcomes`. Choosing a different qibo backend will also lead to different result objects. Docs are available at:\n",
    "* [Circuit.execute()](https://qibo.science/qibo/stable/api-reference/qibo.html#qibo.models.circuit.Circuit.execute)\n",
    "* [CircuitResult](https://qibo.science/qibo/stable/api-reference/qibo.html#qibo.result.CircuitResult)\n",
    "* [QuantumState](https://qibo.science/qibo/stable/api-reference/qibo.html#qibo.result.QuantumState)\n",
    "* [MeasurementOutcomes](https://qibo.science/qibo/stable/api-reference/qibo.html#qibo.result.MeasurementOutcomes)"
   ]
  },
  {
   "cell_type": "code",
   "execution_count": 25,
   "metadata": {},
   "outputs": [
    {
     "data": {
      "text/plain": [
       "qibo.result.CircuitResult"
      ]
     },
     "execution_count": 25,
     "metadata": {},
     "output_type": "execute_result"
    }
   ],
   "source": [
    "# Execute the circuit.\n",
    "\n",
    "results = circuit.execute(nshots=1000)\n",
    "type(results)"
   ]
  },
  {
   "cell_type": "markdown",
   "metadata": {},
   "source": [
    "Several methods exist for examining the outcome of an execution. `frequencies()` counts the ocurrences of each state, `probabilities()` computes the `frequencies() / nshots` for each possible state in order, and `samples()` **generates** a distribution of states based on the theoretical distribution. More info on the api for each class, linked above."
   ]
  },
  {
   "cell_type": "code",
   "execution_count": 26,
   "metadata": {},
   "outputs": [
    {
     "data": {
      "text/plain": [
       "Counter({'10000': 1000})"
      ]
     },
     "execution_count": 26,
     "metadata": {},
     "output_type": "execute_result"
    }
   ],
   "source": [
    "# Check the frequencies, probabilities and sample methods.\n",
    "results.frequencies()"
   ]
  },
  {
   "cell_type": "code",
   "execution_count": 27,
   "metadata": {},
   "outputs": [
    {
     "data": {
      "text/plain": [
       "array([0., 0., 0., 0., 0., 0., 0., 0., 0., 0., 0., 0., 0., 0., 0., 0., 1.,\n",
       "       0., 0., 0., 0., 0., 0., 0., 0., 0., 0., 0., 0., 0., 0., 0.])"
      ]
     },
     "execution_count": 27,
     "metadata": {},
     "output_type": "execute_result"
    }
   ],
   "source": [
    "results.probabilities()"
   ]
  },
  {
   "cell_type": "code",
   "execution_count": 28,
   "metadata": {},
   "outputs": [
    {
     "data": {
      "text/plain": [
       "array([[1, 0, 0, 0, 0],\n",
       "       [1, 0, 0, 0, 0],\n",
       "       [1, 0, 0, 0, 0],\n",
       "       ...,\n",
       "       [1, 0, 0, 0, 0],\n",
       "       [1, 0, 0, 0, 0],\n",
       "       [1, 0, 0, 0, 0]], dtype=int32)"
      ]
     },
     "execution_count": 28,
     "metadata": {},
     "output_type": "execute_result"
    }
   ],
   "source": [
    "results.samples()"
   ]
  },
  {
   "cell_type": "markdown",
   "metadata": {},
   "source": [
    "## 3rd exercise: Quantum teleportation"
   ]
  },
  {
   "cell_type": "markdown",
   "metadata": {},
   "source": [
    "In this example we will dive into quantum teleportation doing first a single teleportation, then several consecutive teleportations and we will end with a network. Find more details at the PDF called \"Teleportation and QuantumNetworks.pdf\"."
   ]
  },
  {
   "cell_type": "markdown",
   "metadata": {},
   "source": [
    "### Imports and global variables:"
   ]
  },
  {
   "cell_type": "code",
   "execution_count": 7,
   "metadata": {},
   "outputs": [],
   "source": [
    "import numpy as np\n",
    "\n",
    "from qibo import Circuit, gates\n",
    "\n",
    "from helper_functions import random_state,print_random_state, print_theoretical_values, print_sampled_values, get_probabilities, execute_get_samples_and_plot, create_networkx_graph, print_networkx_graph, compute_network_path, create_secure_quantum_teleportation_path_circuit\n",
    "\n",
    "# Number of `shots` we will use during this notebook:\n",
    "shots = 10_000"
   ]
  },
  {
   "cell_type": "markdown",
   "metadata": {},
   "source": [
    "### 1) Random initial state:"
   ]
  },
  {
   "cell_type": "markdown",
   "metadata": {},
   "source": [
    "Let's generate a `random state`, for `Alice`!"
   ]
  },
  {
   "cell_type": "code",
   "execution_count": 8,
   "metadata": {},
   "outputs": [
    {
     "name": "stdout",
     "output_type": "stream",
     "text": [
      "Theta: 2.7669934551790796, Phi: -1.9307265208974014\n",
      "State: alpha=0.18620640458790377  beta=(-0.9195527538880768+0.3460489961079211j)\n",
      "Probabilities: prob_a=0.03467282510955411  prob_b=0.965327174890446\n",
      "\n"
     ]
    }
   ],
   "source": [
    "# Generate random state:\n",
    "theta, phi = random_state()\n",
    "alpha, beta = np.cos(theta/2), np.sin(theta/2)*np.exp(phi*1.j)*-1.j\n",
    "prob_a, prob_b = np.cos(theta/2)**2, np.sin(theta/2)**2\n",
    "print_random_state(theta, phi)"
   ]
  },
  {
   "cell_type": "markdown",
   "metadata": {},
   "source": [
    "Now let's do a small `circuit` and see its `results` and `probabilities`:"
   ]
  },
  {
   "cell_type": "code",
   "execution_count": 9,
   "metadata": {},
   "outputs": [
    {
     "name": "stderr",
     "output_type": "stream",
     "text": [
      "[Qibo 0.2.8|INFO|2024-10-04 23:56:09]: Using numpy backend on /CPU:0\n"
     ]
    },
    {
     "name": "stdout",
     "output_type": "stream",
     "text": [
      "Circuit:\n",
      "q0: ─U1q─M─\n",
      "\n",
      "THEORETICAL VALUES:\n",
      "State: [ 0.1862064 +0.j       -0.91955275+0.346049j]\n",
      "Probabilities: [0.03467283 0.96532717]\n",
      "\n",
      "SAMPLED VALUES:\n",
      "Samples: [[1 1 1 ... 1 1 1]]\n",
      "Frequencies: Counter({'1': 9643, '0': 357})\n",
      "Sampled probabilities: {'0': 0.0357, '1': 0.9643}\n"
     ]
    },
    {
     "data": {
      "image/png": "[encoded data removed]",
      "text/plain": [
       "<Figure size 700x500 with 1 Axes>"
      ]
     },
     "execution_count": 9,
     "metadata": {},
     "output_type": "execute_result"
    }
   ],
   "source": [
    "# Define a small circuit to check its probabilities:\n",
    "c0 = Circuit(1)\n",
    "c0.add(gates.U1q(q=0, theta=theta, phi=phi))\n",
    "c0.add(gates.M(0))\n",
    "\n",
    "# Plot the circuit:\n",
    "print(f\"Circuit:\\n{c0.draw()}\\n\")\n",
    "\n",
    "# Run the circuit:\n",
    "result = c0(nshots=shots)\n",
    "\n",
    "# Theoretical values:\n",
    "state = result.state()\n",
    "probabilities = result.probabilities()\n",
    "print_theoretical_values(state, probabilities)\n",
    "\n",
    "# Sampled values (with nshots):\n",
    "# (possible because we have a Measurement gate!)\n",
    "samples = np.stack(result.samples(), axis=1)\n",
    "frequencies = result.frequencies()\n",
    "sampled_probabilities = get_probabilities(frequencies)\n",
    "print_sampled_values(samples, frequencies, sampled_probabilities)"
   ]
  },
  {
   "cell_type": "markdown",
   "metadata": {},
   "source": [
    "### 2) Teleportation circuit:\n",
    "\n",
    "\n",
    "Now we will generate the previously shown `circuit` for quantum teleportation:"
   ]
  },
  {
   "cell_type": "code",
   "execution_count": 10,
   "metadata": {},
   "outputs": [
    {
     "name": "stdout",
     "output_type": "stream",
     "text": [
      "Circuit:\n",
      "q0: ─U1q───o─H─M─o─────\n",
      "q1: ─H───o─X─M───|─o───\n",
      "q2: ─────X───────Z─X─M─\n",
      "\n"
     ]
    }
   ],
   "source": [
    "# Define teleport circuit\n",
    "c = Circuit(3)\n",
    "\n",
    "# Initial Alice random state\n",
    "c.add(gates.U1q(q=0, theta=theta, phi=phi))\n",
    "\n",
    "# Initial Alice-Bob entangled state\n",
    "c.add(gates.H(1))\n",
    "c.add(gates.CNOT(1,2))\n",
    "\n",
    "# Entanglement measure of Alice\n",
    "c.add(gates.CNOT(0,1))\n",
    "c.add(gates.H(0))\n",
    "c.add(gates.M(0))\n",
    "c.add(gates.M(1))\n",
    "\n",
    "# From Alice's results, Bob does control Z's & X's:\n",
    "c.add(gates.CZ(0,2))\n",
    "c.add(gates.CNOT(1,2))\n",
    "c.add(gates.M(2, register_name=\"measure\"))\n",
    "\n",
    "# Plot the circuit:\n",
    "print(f\"Circuit:\\n{c.draw()}\\n\")"
   ]
  },
  {
   "cell_type": "code",
   "execution_count": 11,
   "metadata": {},
   "outputs": [
    {
     "name": "stdout",
     "output_type": "stream",
     "text": [
      "SAMPLED VALUES:\n",
      "Samples: [[1 1 1 ... 1 1 1]]\n",
      "Frequencies: Counter({'1': 9655, '0': 345})\n",
      "Sampled probabilities: {'0': 0.0345, '1': 0.9655}\n"
     ]
    },
    {
     "data": {
      "image/png": "[encoded data removed]",
      "text/plain": [
       "<Figure size 700x500 with 1 Axes>"
      ]
     },
     "execution_count": 11,
     "metadata": {},
     "output_type": "execute_result"
    }
   ],
   "source": [
    "execute_get_samples_and_plot(circuit=c, shots=shots)"
   ]
  },
  {
   "cell_type": "markdown",
   "metadata": {},
   "source": [
    "### 3) Consecutive quantum teleports:\n",
    "\n",
    "Using an `intermediary B` we can connect `A` and `C`, that have never met before!\n",
    "\n",
    "First lets define the `graph` for such case:"
   ]
  },
  {
   "cell_type": "code",
   "execution_count": 12,
   "metadata": {},
   "outputs": [
    {
     "data": {
      "image/png": "[encoded data removed]",
      "text/plain": [
       "<Figure size 640x480 with 1 Axes>"
      ]
     },
     "metadata": {},
     "output_type": "display_data"
    }
   ],
   "source": [
    "edges = {\n",
    "    (\"Guille\", \"David\"): \"\",\n",
    "    (\"David\", \"Jacobo\"): \"\",\n",
    "}\n",
    "G = create_networkx_graph(edges)\n",
    "print_networkx_graph(G, edges)"
   ]
  },
  {
   "cell_type": "markdown",
   "metadata": {},
   "source": [
    "Now, lets do the `circuit`. Notice its the same, but with everything `duplicated`!"
   ]
  },
  {
   "cell_type": "code",
   "execution_count": 13,
   "metadata": {},
   "outputs": [
    {
     "name": "stdout",
     "output_type": "stream",
     "text": [
      "Circuit:\n",
      "q0: ─U1q───────o─H─M───────o─────────\n",
      "q1: ─H───o─────X─M─────────|─o───────\n",
      "q2: ─────X───────────o─H─M─|─|─o─────\n",
      "q3: ───────H─o───────X─M───|─|─|─o───\n",
      "q4: ─────────X─────────────Z─X─Z─X─M─\n",
      "\n"
     ]
    }
   ],
   "source": [
    "# Define teleport circuit\n",
    "c = Circuit(5)\n",
    "\n",
    "# Initial Alice random state\n",
    "c.add(gates.U1q(q=0, theta=theta, phi=phi))\n",
    "\n",
    "# Initial entangled states:\n",
    "c.add(gates.H(1))\n",
    "c.add(gates.CNOT(1,2))\n",
    "\n",
    "c.add(gates.H(3))\n",
    "c.add(gates.CNOT(3,4))\n",
    "\n",
    "# Entanglement measurements\n",
    "c.add(gates.CNOT(0,1))\n",
    "c.add(gates.H(0))\n",
    "c.add(gates.M(0))\n",
    "c.add(gates.M(1))\n",
    "\n",
    "c.add(gates.CNOT(2,3))\n",
    "c.add(gates.H(2))\n",
    "c.add(gates.M(2))\n",
    "c.add(gates.M(3))\n",
    "\n",
    "# From the obtained results, we do control Z's and X's to Bob:\n",
    "c.add(gates.CZ(0,4))\n",
    "c.add(gates.CNOT(1,4))\n",
    "\n",
    "c.add(gates.CZ(2,4))\n",
    "c.add(gates.CNOT(3,4))\n",
    "\n",
    "c.add(gates.M(4, register_name=\"measure\"))\n",
    "\n",
    "# Plot the circuit:\n",
    "print(f\"Circuit:\\n{c.draw()}\\n\")"
   ]
  },
  {
   "cell_type": "code",
   "execution_count": 14,
   "metadata": {},
   "outputs": [
    {
     "name": "stdout",
     "output_type": "stream",
     "text": [
      "SAMPLED VALUES:\n",
      "Samples: [[1 1 1 ... 1 1 1]]\n",
      "Frequencies: Counter({'1': 9661, '0': 339})\n",
      "Sampled probabilities: {'0': 0.0339, '1': 0.9661}\n"
     ]
    },
    {
     "data": {
      "image/png": "[encoded data removed]",
      "text/plain": [
       "<Figure size 700x500 with 1 Axes>"
      ]
     },
     "execution_count": 14,
     "metadata": {},
     "output_type": "execute_result"
    }
   ],
   "source": [
    "execute_get_samples_and_plot(circuit=c, shots=shots)"
   ]
  },
  {
   "cell_type": "markdown",
   "metadata": {},
   "source": [
    "### 4) Quantum teleportation network:\n",
    "\n",
    "\n",
    "Now lets define a more complicated `graph` for a possible `quantum network`:"
   ]
  },
  {
   "cell_type": "code",
   "execution_count": 15,
   "metadata": {},
   "outputs": [
    {
     "data": {
      "image/png": "[encoded data removed]",
      "text/plain": [
       "<Figure size 640x480 with 1 Axes>"
      ]
     },
     "metadata": {},
     "output_type": "display_data"
    }
   ],
   "source": [
    "# Our secure quantum teleportation network is:\n",
    "edges = {\n",
    "    (\"guille\",\"MAD\"): \"<-->\",\n",
    "    (\"david\",\"MAD\"): \"\",\n",
    "    (\"jacobo\",\"MAD\"): \"\",\n",
    "    (\"...\", \"MAD\"): \"\",\n",
    "    (\"arnau\", \"BCN\"): \"\",\n",
    "    (\"ameer\", \"BCN\"): \"<-->\",\n",
    "    (\"enrique\", \"BCN\"): \"\",\n",
    "    (\"....\", \"BCN\"): \"\",\n",
    "    (\"BCN\", \"MAD\"): \"<-->\",\n",
    "}\n",
    "graph_to_travel = create_networkx_graph(edges)\n",
    "print_networkx_graph(graph_to_travel, edges)"
   ]
  },
  {
   "cell_type": "markdown",
   "metadata": {},
   "source": [
    "Now telling `who` wants to send a quantum state, and to who, `we compute the needed quantum circuit`!"
   ]
  },
  {
   "cell_type": "code",
   "execution_count": 16,
   "metadata": {},
   "outputs": [
    {
     "name": "stdout",
     "output_type": "stream",
     "text": [
      "The path to follow is: [('guille', 'MAD'), ('MAD', 'BCN'), ('BCN', 'ameer')]\n",
      "Circuit:\n",
      "q0: ─────────────U1q─o─H─M─────────────o─────────────\n",
      "q1: ─H─o─────────────X─M───────────────|─o───────────\n",
      "q2: ───X───────────────────o─H─M───────|─|─o─────────\n",
      "q3: ─────H─o───────────────X─M─────────|─|─|─o───────\n",
      "q4: ───────X─────────────────────o─H─M─|─|─|─|─o─────\n",
      "q5: ─────────H─o─────────────────X─M───|─|─|─|─|─o───\n",
      "q6: ───────────X───────────────────────Z─X─Z─X─Z─X─M─\n",
      "\n"
     ]
    }
   ],
   "source": [
    "# Guille wants to send a message to ameer:\n",
    "sender = \"guille\"\n",
    "receiver = \"ameer\"\n",
    "\n",
    "# Search for the edges with shortest path\n",
    "edges = compute_network_path(graph=graph_to_travel, sender=sender, receiver=receiver)\n",
    "print(f\"The path to follow is: {edges}\")\n",
    "\n",
    "# Create and plot the neede circuit:\n",
    "automatic_circuit = create_secure_quantum_teleportation_path_circuit((theta,phi), edges)\n",
    "\n",
    "# Plot the circuit:\n",
    "print(f\"Circuit:\\n{automatic_circuit.draw()}\\n\")"
   ]
  },
  {
   "cell_type": "code",
   "execution_count": 17,
   "metadata": {},
   "outputs": [
    {
     "name": "stdout",
     "output_type": "stream",
     "text": [
      "SAMPLED VALUES:\n",
      "Samples: [[1 1 1 ... 1 1 1]]\n",
      "Frequencies: Counter({'1': 9653, '0': 347})\n",
      "Sampled probabilities: {'0': 0.0347, '1': 0.9653}\n"
     ]
    },
    {
     "data": {
      "image/png": "[encoded data removed]",
      "text/plain": [
       "<Figure size 700x500 with 1 Axes>"
      ]
     },
     "execution_count": 17,
     "metadata": {},
     "output_type": "execute_result"
    }
   ],
   "source": [
    "execute_get_samples_and_plot(circuit=c, shots=shots)"
   ]
  },
  {
   "cell_type": "markdown",
   "metadata": {},
   "source": [
    "IT WORKS PERFECTLY!!!"
   ]
  }
 ],
 "metadata": {
  "kernelspec": {
   "display_name": "qiskit_1",
   "language": "python",
   "name": "python3"
  },
  "language_info": {
   "codemirror_mode": {
    "name": "ipython",
    "version": 3
   },
   "file_extension": ".py",
   "mimetype": "text/x-python",
   "name": "python",
   "nbconvert_exporter": "python",
   "pygments_lexer": "ipython3",
   "version": "3.11.9"
  }
 },
 "nbformat": 4,
 "nbformat_minor": 2
}
